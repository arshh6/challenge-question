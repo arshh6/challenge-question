{
  "nbformat": 4,
  "nbformat_minor": 0,
  "metadata": {
    "colab": {
      "provenance": [],
      "authorship_tag": "ABX9TyMRRZTJAQYNTWfH7W+zWV6p",
      "include_colab_link": true
    },
    "kernelspec": {
      "name": "python3",
      "display_name": "Python 3"
    },
    "language_info": {
      "name": "python"
    }
  },
  "cells": [
    {
      "cell_type": "markdown",
      "metadata": {
        "id": "view-in-github",
        "colab_type": "text"
      },
      "source": [
        "<a href=\"https://colab.research.google.com/github/arshh6/challenge-question/blob/main/challenge_question1.ipynb\" target=\"_parent\"><img src=\"https://colab.research.google.com/assets/colab-badge.svg\" alt=\"Open In Colab\"/></a>"
      ]
    },
    {
      "cell_type": "code",
      "execution_count": 1,
      "metadata": {
        "colab": {
          "base_uri": "https://localhost:8080/"
        },
        "id": "m9rTMnwa3W_P",
        "outputId": "ee2c7957-1a2d-4d4b-de74-41e853868fad"
      },
      "outputs": [
        {
          "output_type": "stream",
          "name": "stdout",
          "text": [
            "['1', '2', '3', '4', 'aman', 'ram', 'shyam']\n",
            "[1, 2, 3, 4, 'aman', 'ram', 'shyam']\n"
          ]
        }
      ],
      "source": [
        "L=[\"ram\",\"shyam\",\"aman\",1,2,3,4]\n",
        "L=[str(i) for i in L]\n",
        "\n",
        "L.sort()\n",
        "print(L)\n",
        "\n",
        "L1=[]\n",
        "for i in L:\n",
        "  try:\n",
        "    L1.append(int(i))\n",
        "  except:\n",
        "    L1.append(i)\n",
        "\n",
        "print(L1)"
      ]
    },
    {
      "cell_type": "code",
      "source": [
        "import time\n",
        "\n",
        "t1=time.time()\n",
        "\n",
        "for i in range(100000):\n",
        "  for i in range(100000):\n",
        "    x=900\n",
        "\n",
        "t2=time.time()\n",
        "print(\"total time:\",t2-t1)"
      ],
      "metadata": {
        "id": "WywfzpOm3kss"
      },
      "execution_count": null,
      "outputs": []
    }
  ]
}